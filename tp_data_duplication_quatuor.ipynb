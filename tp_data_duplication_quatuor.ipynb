{
 "cells": [
  {
   "cell_type": "code",
   "execution_count": 17,
   "metadata": {
    "colab": {
     "base_uri": "https://localhost:8080/",
     "height": 35
    },
    "id": "-qqXshVFUqzG",
    "outputId": "3be5bf8a-2f09-4135-cea1-40894cc8a485"
   },
   "outputs": [
    {
     "data": {
      "text/plain": [
       "'Sort par adress ou name sont interessants'"
      ]
     },
     "execution_count": 17,
     "metadata": {},
     "output_type": "execute_result"
    }
   ],
   "source": [
    "''' Gestion de l input, lecture du fichier excel '''\n",
    "\n",
    "import pandas as pd\n",
    "\n",
    "DATASET_FILE = \"restaurants-without-IDs.xlsx\"\n",
    "SORTED_FILE = \"restaurants-sorted.csv\"\n",
    "SORTING_COLUMN = \"name\"\n",
    "SHEET_TO_ANALYZE = \"Sheet1\"\n",
    "WINDOW_SIZE = 3\n",
    "DUPLICATE_FILE = \"restaurants-duplicates.xlsx\"\n",
    "\n",
    "def sortFile(inputFile,sortingCol,sheetName,outputFile):\n",
    "    xl = pd.ExcelFile(inputFile)\n",
    "    df = xl.parse(sheetName)\n",
    "    df[sortingCol] = df[sortingCol].astype(str)\n",
    "    df = df.sort_values(sortingCol)\n",
    "    df.to_csv(outputFile,index=False)\n",
    "    \n",
    "sortFile(DATASET_FILE,SORTING_COLUMN,SHEET_TO_ANALYZE,SORTED_FILE)\n",
    "''' On observe que les données sont dans l ordre mais rentrees plusieurs fois '''\n",
    "'''Sort par adress ou name sont interessants'''"
   ]
  },
  {
   "cell_type": "code",
   "execution_count": 18,
   "metadata": {
    "colab": {
     "base_uri": "https://localhost:8080/",
     "height": 1000
    },
    "id": "6PFU-JIPUqzQ",
    "outputId": "b2fc0f8f-77e4-4fe3-8d0a-079be2b0b968",
    "scrolled": false
   },
   "outputs": [
    {
     "name": "stdout",
     "output_type": "stream",
     "text": [
      "<class 'pandas.core.frame.DataFrame'>\n",
      "RangeIndex: 865 entries, 0 to 864\n",
      "Data columns (total 5 columns):\n",
      " #   Column      Non-Null Count  Dtype \n",
      "---  ------      --------------  ----- \n",
      " 0   name        865 non-null    object\n",
      " 1   address     865 non-null    object\n",
      " 2   city        865 non-null    object\n",
      " 3   cuisine     865 non-null    object\n",
      " 4   Similar to  865 non-null    object\n",
      "dtypes: object(5)\n",
      "memory usage: 33.9+ KB\n"
     ]
    }
   ],
   "source": [
    "''' Definition des mesures de similarite/distance'''\n",
    "import nltk\n",
    "\n",
    "pd.set_option('display.max_rows', None)\n",
    "\n",
    "'''En utilisant Jaccard et les champs name et adress\n",
    "Les champs city et type ne semblent pas tres pertinents car compose d un ou deux mots\n",
    "City pourraient etre pertinent si les deux city sont un peu similaires et que les deux premiers champ sont aussi similaires'''\n",
    "\n",
    "\n",
    "def comparePair1(rec1,rec2):\n",
    "    n1 = set(rec1['name'])\n",
    "    n2 = set(rec2['name'])\n",
    "    a1 = set(rec1['address'])\n",
    "    a2 = set(rec2['address']) \n",
    "    dname = nltk.jaccard_distance(n1,n2)\n",
    "    dadress = nltk.jaccard_distance(a1,a2)\n",
    "    if dname < 0.2 and dadress < 0.2:\n",
    "        return True\n",
    "    return False\n",
    "\n",
    "\n",
    "\n",
    "'''Gestion de la fenetre, calcul de la similarite selon la fonction definissant si deux records sont similaires\n",
    "puis transitive closure step'''\n",
    "def sortedNeighboorProgram(fileSorted,windowSize,sheetName,similarityFunction,outputFile):\n",
    "    df = pd.read_csv(fileSorted)\n",
    "    \n",
    "    df['Similar to'] = ''\n",
    "    df.info()\n",
    "    numberOfRows = len(df)+1\n",
    "    # Creation de la fenetre\n",
    "    for i in range(numberOfRows-windowSize):\n",
    "        window = df.iloc[i:i+windowSize]\n",
    "        window.index.name = 'index'\n",
    "        #Pour la premiere fenetre, faire toutes les comparaisons deux à deux\n",
    "        if i == 0:\n",
    "            for j in range(windowSize):\n",
    "                for k in range(j+1,windowSize):\n",
    "                    areSimilar = similarityFunction(window.iloc[j],window.iloc[k])\n",
    "                    #S'ils sont similaires, ajout de chacun à la liste des similaires de l'autre\n",
    "                    if areSimilar:\n",
    "                        window.at[j,'Similar to']  = window.at[j,'Similar to'] + \",\"  + str(k)\n",
    "                        window.at[k,'Similar to']  = window.at[k,'Similar to'] + \",\" + str(j)\n",
    "        #Sinon faire les comparaisons du nouveau record avec tous les anciens records de la fenetre\n",
    "        else:\n",
    "            lastRow = window.iloc[windowSize-1]\n",
    "            lastRowIndex = window.index[windowSize-1]\n",
    "            for j in range(i,i+windowSize-1):\n",
    "                areSimilar = similarityFunction(lastRow,window.loc[j])\n",
    "                if areSimilar:\n",
    "                    window.at[j,'Similar to']  = window.at[j,'Similar to'] + \",\" + str(lastRowIndex)\n",
    "                    lastRow['Similar to']  = lastRow['Similar to'] + \",\" + str(j)\n",
    "    \n",
    "    #transitive closure step - Passage en set de la colonne Similar to et deletion des rows sans duplicate\n",
    "    df['Similar to'] = df['Similar to'].str.split(',')\n",
    "    for i in range(numberOfRows-1):\n",
    "        df.at[i,'Similar to'] = set(df.at[i,'Similar to'] )\n",
    "        df.at[i,'Similar to'].remove('')   \n",
    "    \n",
    "    df = df.loc[(df['Similar to'].astype(bool)) ]\n",
    "    \n",
    "    \n",
    "\n",
    "    '''Transitive closure step - pour chaque record on va chercher tous les éléments similaires en allant chercher dans \n",
    "    ses éléments similaires puis dans les elements similaires de ses elements simalaires...'''\n",
    "    for i in df.index:\n",
    "        closure = set(map(int, df.at[i,'Similar to']))\n",
    "        while True:\n",
    "            for dup in closure:\n",
    "                closure_dup = set(map(int, df.at[dup,'Similar to']))\n",
    "                new_closure = closure | closure_dup\n",
    "            \n",
    "            if new_closure == closure:\n",
    "                break\n",
    "            \n",
    "            closure = new_closure\n",
    "        \n",
    "        df.at[i,'Similar to'] = closure\n",
    "        \n",
    "\n",
    "    #display(df.iloc[0:800])\n",
    "    \n",
    "    #display(df)  \n",
    "    df.to_excel(outputFile)\n",
    "        \n",
    "\n",
    "        \n",
    "        \n",
    "        \n",
    "sortedNeighboorProgram(SORTED_FILE,WINDOW_SIZE,SHEET_TO_ANALYZE,comparePair1,DUPLICATE_FILE)\n",
    "\n",
    "    "
   ]
  },
  {
   "cell_type": "code",
   "execution_count": 19,
   "metadata": {
    "colab": {
     "base_uri": "https://localhost:8080/",
     "height": 1000
    },
    "id": "LbWuCjW7UqzR",
    "outputId": "9824252a-9f75-4ac3-fca5-7ae0c83248a0"
   },
   "outputs": [
    {
     "name": "stdout",
     "output_type": "stream",
     "text": [
      "<class 'pandas.core.frame.DataFrame'>\n",
      "RangeIndex: 865 entries, 0 to 864\n",
      "Data columns (total 5 columns):\n",
      " #   Column      Non-Null Count  Dtype \n",
      "---  ------      --------------  ----- \n",
      " 0   name        865 non-null    object\n",
      " 1   address     865 non-null    object\n",
      " 2   city        865 non-null    object\n",
      " 3   cuisine     865 non-null    object\n",
      " 4   Similar to  865 non-null    object\n",
      "dtypes: object(5)\n",
      "memory usage: 33.9+ KB\n"
     ]
    }
   ],
   "source": [
    "\n",
    "''' il pourrait être intéressant de dire que l'adress et le name doivent être similaires vu que c'est des attributs souvent uniques au restaurant\n",
    "On a remarqué que city pouvait être interessant pour confirmer si les restaurants sont identiques '''\n",
    "def comparePair2(rec1,rec2):\n",
    "    n1 = set(rec1['name'])\n",
    "    n2 = set(rec2['name'])\n",
    "    a1 = set(rec1['address'])\n",
    "    a2 = set(rec2['address']) \n",
    "    c1 = set(rec1['city'])\n",
    "    c2 = set(rec2['city']) \n",
    "    \n",
    "    dname = nltk.jaccard_distance(n1,n2)\n",
    "    dadress = nltk.jaccard_distance(a1,a2)\n",
    "    dcity = nltk.jaccard_distance(c1,c2)\n",
    "    if dname < 0.2 and dadress < 0.2 and dcity < 0.5:\n",
    "        return True\n",
    "    return False\n",
    "\n",
    "\n",
    "sortedNeighboorProgram(SORTED_FILE,WINDOW_SIZE,SHEET_TO_ANALYZE,comparePair2,\"restaurants-duplicates2.xlsx\")"
   ]
  },
  {
   "cell_type": "code",
   "execution_count": 20,
   "metadata": {
    "colab": {
     "base_uri": "https://localhost:8080/",
     "height": 1000
    },
    "id": "_uvSV6q-fdR3",
    "outputId": "065b418e-be95-4e2e-80f4-d9f6e6b1b987"
   },
   "outputs": [
    {
     "name": "stdout",
     "output_type": "stream",
     "text": [
      "<class 'pandas.core.frame.DataFrame'>\n",
      "RangeIndex: 865 entries, 0 to 864\n",
      "Data columns (total 5 columns):\n",
      " #   Column      Non-Null Count  Dtype \n",
      "---  ------      --------------  ----- \n",
      " 0   name        865 non-null    object\n",
      " 1   address     865 non-null    object\n",
      " 2   city        865 non-null    object\n",
      " 3   cuisine     865 non-null    object\n",
      " 4   Similar to  865 non-null    object\n",
      "dtypes: object(5)\n",
      "memory usage: 33.9+ KB\n"
     ]
    }
   ],
   "source": [
    "#règles pour trouver les duplicats avec la distance edit_distance au lieu de jaccard_distance\n",
    "#on a utilisé edit_distance pour comparer les séquences dans l'objectif de trouver des duplicates\n",
    "#choix de implémenter comparePair 3: '''En utilisant edit_distance et les champs name et adress\n",
    "#Les champs city et type ne nous a pas semblé car composé de plusieurs mots\n",
    "#City pourraient etre pertinent si les deux city sont un peu similaires et que les deux premiers champ sont aussi similaires'''\n",
    "#si on a un nombre très petit d'opérations , alors on a similarité entre les mots\n",
    "\n",
    "def comparePair3(rec1,rec2):\n",
    "    n1 = rec1['name']\n",
    "    n2 = rec2['name']\n",
    "    a1 = rec1['address']\n",
    "    a2 = rec2['address'] \n",
    "    dname = nltk.edit_distance(n1,n2)\n",
    "    dadress = nltk.edit_distance(a1,a2)\n",
    "    if dname < 5 or dadress < 5:\n",
    "        return True\n",
    "    return False\n",
    "\n",
    "sortedNeighboorProgram(SORTED_FILE,WINDOW_SIZE,SHEET_TO_ANALYZE,comparePair3,\"restaurants-duplicates3.xlsx\")"
   ]
  },
  {
   "cell_type": "code",
   "execution_count": 21,
   "metadata": {
    "colab": {
     "base_uri": "https://localhost:8080/",
     "height": 1000
    },
    "id": "V54LL_wsgOfp",
    "outputId": "ba93610d-123f-4a8d-dd99-859a9b6742f9"
   },
   "outputs": [
    {
     "name": "stdout",
     "output_type": "stream",
     "text": [
      "<class 'pandas.core.frame.DataFrame'>\n",
      "RangeIndex: 865 entries, 0 to 864\n",
      "Data columns (total 5 columns):\n",
      " #   Column      Non-Null Count  Dtype \n",
      "---  ------      --------------  ----- \n",
      " 0   name        865 non-null    object\n",
      " 1   address     865 non-null    object\n",
      " 2   city        865 non-null    object\n",
      " 3   cuisine     865 non-null    object\n",
      " 4   Similar to  865 non-null    object\n",
      "dtypes: object(5)\n",
      "memory usage: 33.9+ KB\n"
     ]
    }
   ],
   "source": [
    "#module difflib fournit des classes et des fonctions pour comparer les séquences et pour détecter des duplicates \n",
    "#Il peut être utilisé, par exemple, pour comparer des fichiers et peut produire des informations \n",
    "#sur les différences dans divers formats, y compris HTML et les différences contextuelles et unifiées. \n",
    "#on a utilisé difflib.SequenceMatcher et ratio() pour comparer les séquences dans l'objectif de trouver des duplicates\n",
    "import difflib\n",
    "#choix de implémenter comparePair 4: '''En utilisant la librairie difflib et les champs name et adress\n",
    "#Les champs city et type ne nous a pas semblé car composé de plusieurs mots\n",
    "#City pourraient etre pertinent si les deux city sont un peu similaires et que les deux premiers champ sont aussi similaires'''\n",
    "#si on a un ratio plus grand que 0.6,alors on a similarité entre les mots\n",
    "def comparePair4(rec1,rec2):\n",
    "    n1 = rec1['name']\n",
    "    n2 = rec2['name']\n",
    "    a1 = rec1['address']\n",
    "    a2 = rec2['address'] \n",
    "    \n",
    "    s1 = difflib.SequenceMatcher(lambda x: x == \" \",n1,n2)\n",
    "    s2 = difflib.SequenceMatcher(lambda x: x == \" \",a1,a2)\n",
    "    \n",
    "    #affichage du ratio \n",
    "    #print(round(s1.ratio(),2))\n",
    "    #print(round(s2.ratio(),2))\n",
    "    \n",
    "    if s1.ratio()>0.6 or s2.ratio()>0.6:\n",
    "        return True\n",
    "    return False\n",
    "sortedNeighboorProgram(SORTED_FILE,WINDOW_SIZE,SHEET_TO_ANALYZE,comparePair4,\"restaurants-duplicates4.xlsx\")"
   ]
  },
  {
   "cell_type": "code",
   "execution_count": 22,
   "metadata": {},
   "outputs": [
    {
     "name": "stdout",
     "output_type": "stream",
     "text": [
      "<class 'pandas.core.frame.DataFrame'>\n",
      "RangeIndex: 865 entries, 0 to 864\n",
      "Data columns (total 5 columns):\n",
      " #   Column      Non-Null Count  Dtype \n",
      "---  ------      --------------  ----- \n",
      " 0   name        865 non-null    object\n",
      " 1   address     865 non-null    object\n",
      " 2   city        865 non-null    object\n",
      " 3   cuisine     865 non-null    object\n",
      " 4   Similar to  865 non-null    object\n",
      "dtypes: object(5)\n",
      "memory usage: 33.9+ KB\n"
     ]
    }
   ],
   "source": [
    "\n",
    "''' On effectue le meme traitement que dans la fonction comparePair2 mais en utilisant les ngrams ce qui semblent plus\n",
    "restrictif'''\n",
    "def comparePair5(rec1,rec2):\n",
    "    n1 = set(nltk.ngrams(rec1['name'], n=3))\n",
    "    n2 = set(nltk.ngrams(rec2['name'], n=3))\n",
    "    a1 = set(nltk.ngrams(rec1['address'], n=3))\n",
    "    a2 = set(nltk.ngrams(rec2['address'], n=3))\n",
    "    c1 = set(nltk.ngrams(rec1['city'], n=3))\n",
    "    c2 = set(nltk.ngrams(rec2['city'], n=3))\n",
    "    \n",
    "    dname = nltk.jaccard_distance(n1,n2)\n",
    "    dadress = nltk.jaccard_distance(a1,a2)\n",
    "    dcity = nltk.jaccard_distance(c1,c2)\n",
    "    if dname < 0.2 and dadress < 0.2 and dcity < 0.5:\n",
    "        return True\n",
    "    return False\n",
    "\n",
    "\n",
    "sortedNeighboorProgram(SORTED_FILE,WINDOW_SIZE,SHEET_TO_ANALYZE,comparePair5,\"restaurants-duplicates5.xlsx\")"
   ]
  },
  {
   "cell_type": "code",
   "execution_count": null,
   "metadata": {},
   "outputs": [],
   "source": []
  }
 ],
 "metadata": {
  "colab": {
   "collapsed_sections": [],
   "name": "tp_data_duplication_quatuor3.ipynb",
   "provenance": []
  },
  "kernelspec": {
   "display_name": "Python 3",
   "language": "python",
   "name": "python3"
  },
  "language_info": {
   "codemirror_mode": {
    "name": "ipython",
    "version": 3
   },
   "file_extension": ".py",
   "mimetype": "text/x-python",
   "name": "python",
   "nbconvert_exporter": "python",
   "pygments_lexer": "ipython3",
   "version": "3.7.6"
  }
 },
 "nbformat": 4,
 "nbformat_minor": 1
}
