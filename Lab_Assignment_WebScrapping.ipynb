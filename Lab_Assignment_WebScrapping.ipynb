{
 "cells": [
  {
   "cell_type": "markdown",
   "metadata": {},
   "source": [
    "# Lab Assignment\n",
    "\n",
    "In this lab assignment, you will improve your skills in scraping data from web pages, organizing the data in a desired format. To do so, we will use data that is provided by the Indeed company via their web pages.\n",
    "\n",
    "\n",
    "You task will be to exectute the following blocks of code and try to understand what is happening after each line of the code. You will have to answer several questions to show your understanding.\n",
    "\n",
    "Let us start with importing of the relevant packages.\n",
    "\n",
    "Warning: I am using Python 3 for this lab assignment. If you are using Python 2, then some libraries may need to be changed., e.g., urllib -> urlib2."
   ]
  },
  {
   "cell_type": "code",
   "execution_count": 1,
   "metadata": {},
   "outputs": [],
   "source": [
    "import urllib.request\n",
    "import urllib.error\n",
    "import bs4 #this is beautiful soup\n",
    "\n",
    "import time\n",
    "from pandas import Series\n",
    "import pandas as pd\n",
    "from pandas import DataFrame\n",
    "import numpy as np\n",
    "import re\n",
    "\n",
    "import matplotlib\n",
    "import matplotlib.pyplot as plt\n",
    "%matplotlib inline"
   ]
  },
  {
   "cell_type": "markdown",
   "metadata": {},
   "source": [
    "As you see, you imported the package called `re`, which supports regular expression operations. You have already used the other packages. \n",
    "\n",
    "The following block will access and load the contents of an Indeed.com web page. It will probably give you a warning -- please ignore it."
   ]
  },
  {
   "cell_type": "code",
   "execution_count": 2,
   "metadata": {},
   "outputs": [],
   "source": [
    "# Fixed url for job postings containing data scientist\n",
    "url = 'https://www.indeed.fr/jobs?q=data+scientist&l=%C3%8Ele-de-France'\n",
    "# read the website\n",
    "source = urllib.request.urlopen(url).read()\n",
    "# parse html code\n",
    "bs_tree = bs4.BeautifulSoup(source)"
   ]
  },
  {
   "cell_type": "markdown",
   "metadata": {},
   "source": [
    "** Question 1**:\n",
    " * What kind of page did you land on? Explain in a few sentences what is the content of this page.\n",
    " > Il s'agit du résultat des recherches des offres d'emploi de 'data scientist\" en ile de france sur le site indeed\n",
    " * What does the \"?\" and \"&\" in the url mean?\n",
    " > The ? indicates the start of the query string. Within the query string you have a set of key=value pairs, each separated by an &.\n",
    " * Explore the content of the web page. If you are using Firefox, open the page Inspector to understand how the underlying html code relates to the displayed content.\n",
    " * What pieces of the html code are responsible for showing the job title, company name, and job location?\n",
    " > job title : (< h2 class=\"title\">)\n",
    " \n",
    " > company name : < span class=\"company\">\n",
    "    \n",
    " > job location : ( < div class=\"location accessible-contrast-color-location\" /div>)\n",
    "    \n",
    "The following block of code will figure out how many job ads are there for jobs that contain \"data scientist' in the job title."
   ]
  },
  {
   "cell_type": "code",
   "execution_count": 3,
   "metadata": {},
   "outputs": [
    {
     "name": "stdout",
     "output_type": "stream",
     "text": [
      "Search yielded 465 hits.\n",
      "465\n"
     ]
    }
   ],
   "source": [
    "# see how many job postings we found\n",
    "job_count_string = bs_tree.find(id = 'searchCountPages').contents[0]\n",
    "job_count_string = job_count_string.split()[-2]\n",
    "print((\"Search yielded %s hits.\" % (job_count_string)))\n",
    "\n",
    "# not that job_count so far is still a string, \n",
    "# not an integer, and the , separator prevents \n",
    "# us from just casting it to int\n",
    "\n",
    "job_count_digits = [int(d) for d in job_count_string if d.isdigit()]\n",
    "job_count = np.sum([digit*(10**exponent) for digit, exponent in \n",
    "                    zip(job_count_digits[::-1], list(range(len(job_count_digits))))])\n",
    "\n",
    "print(job_count)"
   ]
  },
  {
   "cell_type": "markdown",
   "metadata": {},
   "source": [
    "** Question 2**:\n",
    "* What does the \"find(id = 'searchCountPages')\" in the first line mean?\n",
    ">find(id = 'searchCountPages') permet de retrouver la partie html id = 'searchCountPages. Son résultat devrait être ( Page 1 de 459 emplois\n",
    "* What does the second line do?\n",
    "> La seconde ligne permet de spliter le résultat de la première ligne en une liste [page , 1 , de , 459 , emplois] et de retourner le deuxième élément de la liste en comptant de la fin '459' dans ce cas.\n",
    "\n",
    "**Question 3**: \n",
    "* Write a piece of code that finds the Salary Estimate object on the page\n",
    "> salary = soup.find_all('span' , class_='salaryText')\n"
   ]
  },
  {
   "cell_type": "markdown",
   "metadata": {},
   "source": [
    "The following piece of code allows you to find the links to all the job ads on the page."
   ]
  },
  {
   "cell_type": "code",
   "execution_count": 11,
   "metadata": {},
   "outputs": [
    {
     "name": "stdout",
     "output_type": "stream",
     "text": [
      "We found a lot of jobs:  30\n"
     ]
    }
   ],
   "source": [
    "# The website is listing 15 results per page, \n",
    "# so we need to scrape them page after page\n",
    "num_pages = int(np.ceil(job_count/10.0))\n",
    "\n",
    "base_url = 'http://www.indeed.com'\n",
    "job_links = []\n",
    "for i in range(2): #do range(num_pages) if you want them all\n",
    "    url = 'https://www.indeed.fr/emplois?q=data+scientist&l=%C3%8Ele-de-France&start=' + str(i*10)\n",
    "    html_page = urllib.request.urlopen(url).read() \n",
    "    bs_tree = bs4.BeautifulSoup(html_page)\n",
    "    job_link_area = bs_tree.find(id = 'resultsCol')\n",
    "    job_postings = job_link_area.findAll(\"div\")\n",
    "    job_postings = [jp for jp in job_postings if str(jp.get('class')).find('row result')]\n",
    "    \n",
    "    job_ids = [jp.get('data-jk') for jp in job_postings]\n",
    "    \n",
    "    \n",
    "    # go after each link\n",
    "    for id in job_ids:\n",
    "        if (id != None):\n",
    "            job_links.append(base_url + '/rc/clk?jk=' + id)\n",
    "\n",
    "    time.sleep(1)\n",
    "\n",
    "print(\"We found a lot of jobs: \", len(job_links))"
   ]
  },
  {
   "cell_type": "markdown",
   "metadata": {},
   "source": [
    "**Question 4**:\n",
    "* explain why is `url` (first line in the for loop) defined as it is. What page are you landing at when `i = 3`?\n",
    "> l'url est définie comme ceci [url = 'https://www.indeed.fr/emplois?q=data+scientist&l=%C3%8Ele-de-France&start=' + str(i*10)] car si on parcourt les différentes pages pour les annonces \"data scientist en ile de france\" on remarque que le lien de la première page est https://fr.indeed.com/emplois?q=data+scientist&l=%C3%8Ele-de-France&start= , celui de la dexième page https://fr.indeed.com/emplois?q=data+scientist&l=%C3%8Ele-de-France&start=10 celui de la troisième page https://fr.indeed.com/emplois?q=data+scientist&l=%C3%8Ele-de-France&start=20 etc.... il s'agit donc du lien de base https://www.indeed.fr/emplois?q=data+scientist&l=%C3%8Ele-de-France&start= auquel on ajoute i x 10 sachant que i commence par 0 pour la première page, 1 pour la deuxième etc. Donc pour i=3 on se retrouve sur la quatrième page.\n",
    "* What does command `bs_tree.find(id = 'resultsCol')` do?\n",
    "> la commande bs_tree.find(id = 'resultsCol') retourne le tag avec id=\"resultsCol (The center column on the page where the job postings exist) \n",
    "\n",
    "* What does command `''.join(jp.get('class'))` do?\n",
    "> ''.join(jp.get('class')) Joins all items in [jp.get('class')] into a string\n",
    "* Explain the properties and content of `job_links`\n",
    "> job_links est une liste de liens dont l'id est spécifié dans le lien\n",
    "\n",
    "\n",
    "**Question 5**:\n",
    "* Reuse the code above to find links to the first 200 listed data science jobs\n",
    "\n"
   ]
  },
  {
   "cell_type": "code",
   "execution_count": 7,
   "metadata": {},
   "outputs": [
    {
     "name": "stdout",
     "output_type": "stream",
     "text": [
      "we found a lot of jobs : 200\n",
      "['http://www.indeed.com/rc/clk?jk=342f317f6681028b', 'http://www.indeed.com/rc/clk?jk=3ec6c8a5df61a7cd', 'http://www.indeed.com/rc/clk?jk=90324b40c5502800', 'http://www.indeed.com/rc/clk?jk=cc9b18a4f010fe49', 'http://www.indeed.com/rc/clk?jk=156b21e4e84ad51d', 'http://www.indeed.com/rc/clk?jk=773628dfeae4c442', 'http://www.indeed.com/rc/clk?jk=01c59c24690402fb', 'http://www.indeed.com/rc/clk?jk=cb21be937afa3fc3', 'http://www.indeed.com/rc/clk?jk=cb6c7b39eac6ca22', 'http://www.indeed.com/rc/clk?jk=b19ecb760d62f350', 'http://www.indeed.com/rc/clk?jk=d2c502aabdc78705', 'http://www.indeed.com/rc/clk?jk=01d690bb41abc5fe', 'http://www.indeed.com/rc/clk?jk=3b36493c70267c5c', 'http://www.indeed.com/rc/clk?jk=e2b0ed176860c1a3', 'http://www.indeed.com/rc/clk?jk=992d1405d164319e', 'http://www.indeed.com/rc/clk?jk=d2c502aabdc78705', 'http://www.indeed.com/rc/clk?jk=01d690bb41abc5fe', 'http://www.indeed.com/rc/clk?jk=3b36493c70267c5c', 'http://www.indeed.com/rc/clk?jk=e2b0ed176860c1a3', 'http://www.indeed.com/rc/clk?jk=992d1405d164319e', 'http://www.indeed.com/rc/clk?jk=e48b3498dd77310b', 'http://www.indeed.com/rc/clk?jk=ebaa247af17aa17a', 'http://www.indeed.com/rc/clk?jk=b230a16cc99bf878', 'http://www.indeed.com/rc/clk?jk=9a1c7d7af3589ce1', 'http://www.indeed.com/rc/clk?jk=37445b74a0017d22', 'http://www.indeed.com/rc/clk?jk=b3fe49e99b9cdc7e', 'http://www.indeed.com/rc/clk?jk=b1412b4c9f85b72d', 'http://www.indeed.com/rc/clk?jk=91edf26dffd5f1b5', 'http://www.indeed.com/rc/clk?jk=b117b0b7559e2118', 'http://www.indeed.com/rc/clk?jk=d87b4f5de4149dc6', 'http://www.indeed.com/rc/clk?jk=b117b0b7559e2118', 'http://www.indeed.com/rc/clk?jk=d87b4f5de4149dc6', 'http://www.indeed.com/rc/clk?jk=e22ab50f872c180a', 'http://www.indeed.com/rc/clk?jk=0fe7f1f498209dfa', 'http://www.indeed.com/rc/clk?jk=8b07b9849c9d4f6e', 'http://www.indeed.com/rc/clk?jk=fd9355845bf73e47', 'http://www.indeed.com/rc/clk?jk=c72569eba6383b52', 'http://www.indeed.com/rc/clk?jk=3292f13375c19cb5', 'http://www.indeed.com/rc/clk?jk=f021b605707ff41e', 'http://www.indeed.com/rc/clk?jk=bde1b544da0c1685', 'http://www.indeed.com/rc/clk?jk=f972b2176d6187b3', 'http://www.indeed.com/rc/clk?jk=851a42dbd7fa76e9', 'http://www.indeed.com/rc/clk?jk=2d7e513fec05f54d', 'http://www.indeed.com/rc/clk?jk=da79138a46b45f02', 'http://www.indeed.com/rc/clk?jk=097d5160829c5ec4', 'http://www.indeed.com/rc/clk?jk=c550e9e45ecec7c4', 'http://www.indeed.com/rc/clk?jk=ae89f3d9d7a7e2b1', 'http://www.indeed.com/rc/clk?jk=886668f81528e2f5', 'http://www.indeed.com/rc/clk?jk=f492c1e7a08bc37f', 'http://www.indeed.com/rc/clk?jk=9c6974c4aeabe86c', 'http://www.indeed.com/rc/clk?jk=f60b1cb9a3b77a3c', 'http://www.indeed.com/rc/clk?jk=50dd74e49f8c75a7', 'http://www.indeed.com/rc/clk?jk=7a232fa6418e5420', 'http://www.indeed.com/rc/clk?jk=4e45cbd7fe652c24', 'http://www.indeed.com/rc/clk?jk=6dabf5af5458946b', 'http://www.indeed.com/rc/clk?jk=06c1d2b784892df0', 'http://www.indeed.com/rc/clk?jk=b880efb9a4f16719', 'http://www.indeed.com/rc/clk?jk=3e5bb03c069ec51d', 'http://www.indeed.com/rc/clk?jk=631eb04b8315427e', 'http://www.indeed.com/rc/clk?jk=03ef4c22c44a90e2', 'http://www.indeed.com/rc/clk?jk=631eb04b8315427e', 'http://www.indeed.com/rc/clk?jk=56eb242d64b0c45f', 'http://www.indeed.com/rc/clk?jk=892aec07551f7ef0', 'http://www.indeed.com/rc/clk?jk=e4d30e7b93860fbf', 'http://www.indeed.com/rc/clk?jk=c140074ec7c418c0', 'http://www.indeed.com/rc/clk?jk=1fa9f2fcd2792cff', 'http://www.indeed.com/rc/clk?jk=b21cc5e792c30a96', 'http://www.indeed.com/rc/clk?jk=d0f70ac48a9fa812', 'http://www.indeed.com/rc/clk?jk=27155c724a227bc9', 'http://www.indeed.com/rc/clk?jk=a4c6e83e143a1a90', 'http://www.indeed.com/rc/clk?jk=de3d6a38994d3902', 'http://www.indeed.com/rc/clk?jk=da40ea060bfe892d', 'http://www.indeed.com/rc/clk?jk=03ef4c22c44a90e2', 'http://www.indeed.com/rc/clk?jk=8783a7946c13c058', 'http://www.indeed.com/rc/clk?jk=3e5bb03c069ec51d', 'http://www.indeed.com/rc/clk?jk=1ab963803e0189b3', 'http://www.indeed.com/rc/clk?jk=03ef4c22c44a90e2', 'http://www.indeed.com/rc/clk?jk=49743cd7c7cda45d', 'http://www.indeed.com/rc/clk?jk=d4a4708d6d2fafd9', 'http://www.indeed.com/rc/clk?jk=9d94c6cf80ec1aac', 'http://www.indeed.com/rc/clk?jk=8f3679986dce808f', 'http://www.indeed.com/rc/clk?jk=26f3fe5a88668cbc', 'http://www.indeed.com/rc/clk?jk=c63afc2b732738cf', 'http://www.indeed.com/rc/clk?jk=36487fac77768057', 'http://www.indeed.com/rc/clk?jk=9fc8435af1913fee', 'http://www.indeed.com/rc/clk?jk=7f81ea6108aeaed1', 'http://www.indeed.com/rc/clk?jk=3ad63113356df5f3', 'http://www.indeed.com/rc/clk?jk=a98facc3246e615b', 'http://www.indeed.com/rc/clk?jk=1a0319da882ab8ff', 'http://www.indeed.com/rc/clk?jk=1363d88324a03209', 'http://www.indeed.com/rc/clk?jk=da40ea060bfe892d', 'http://www.indeed.com/rc/clk?jk=8783a7946c13c058', 'http://www.indeed.com/rc/clk?jk=a8a1ecf63f8aca04', 'http://www.indeed.com/rc/clk?jk=5ccb274bccf7ca1a', 'http://www.indeed.com/rc/clk?jk=6e9c67cfa6b59a34', 'http://www.indeed.com/rc/clk?jk=1ab963803e0189b3', 'http://www.indeed.com/rc/clk?jk=3ec6c8a5df61a7cd', 'http://www.indeed.com/rc/clk?jk=d4a4708d6d2fafd9', 'http://www.indeed.com/rc/clk?jk=9d94c6cf80ec1aac', 'http://www.indeed.com/rc/clk?jk=8f3679986dce808f', 'http://www.indeed.com/rc/clk?jk=3ec6c8a5df61a7cd', 'http://www.indeed.com/rc/clk?jk=4cdc829d1a0fc791', 'http://www.indeed.com/rc/clk?jk=342f317f6681028b', 'http://www.indeed.com/rc/clk?jk=ae89d6ea7439eee0', 'http://www.indeed.com/rc/clk?jk=555109e3436455fc', 'http://www.indeed.com/rc/clk?jk=f1c930b5917ae926', 'http://www.indeed.com/rc/clk?jk=c57ebcafcedc60d8', 'http://www.indeed.com/rc/clk?jk=e10c48ad80c6dc75', 'http://www.indeed.com/rc/clk?jk=25b002d28dbfedb0', 'http://www.indeed.com/rc/clk?jk=8c4b6bc4de5797cd', 'http://www.indeed.com/rc/clk?jk=bec49398bb659571', 'http://www.indeed.com/rc/clk?jk=0f39603e44d6400d', 'http://www.indeed.com/rc/clk?jk=f08412fd745f96dd', 'http://www.indeed.com/rc/clk?jk=c8fb00f1a2641b31', 'http://www.indeed.com/rc/clk?jk=cf0db88d89b9398d', 'http://www.indeed.com/rc/clk?jk=d2943db32248359d', 'http://www.indeed.com/rc/clk?jk=7c59f2e96fde4cc2', 'http://www.indeed.com/rc/clk?jk=9925a5171d4091ba', 'http://www.indeed.com/rc/clk?jk=096133370c4c04bc', 'http://www.indeed.com/rc/clk?jk=0c364933a0588f27', 'http://www.indeed.com/rc/clk?jk=6ce67aa2284859d0', 'http://www.indeed.com/rc/clk?jk=7c3c682fe8bc547b', 'http://www.indeed.com/rc/clk?jk=a7fa29e6d7be8f4c', 'http://www.indeed.com/rc/clk?jk=35e083afdaab78f4', 'http://www.indeed.com/rc/clk?jk=6817e5015b11c9e9', 'http://www.indeed.com/rc/clk?jk=4308cb97696cb93b', 'http://www.indeed.com/rc/clk?jk=450abd2b5d1c85bf', 'http://www.indeed.com/rc/clk?jk=406b1ffc4818f37f', 'http://www.indeed.com/rc/clk?jk=cfd81ead68680986', 'http://www.indeed.com/rc/clk?jk=ae3e1f8eaf42cc21', 'http://www.indeed.com/rc/clk?jk=b664dae16f171513', 'http://www.indeed.com/rc/clk?jk=17de59e6aff52733', 'http://www.indeed.com/rc/clk?jk=c49cfd75138ea0b7', 'http://www.indeed.com/rc/clk?jk=1eab0ae8dc820a7b', 'http://www.indeed.com/rc/clk?jk=36cf7409ca3f938c', 'http://www.indeed.com/rc/clk?jk=311bc05b38074045', 'http://www.indeed.com/rc/clk?jk=534d6ba6f1d0c82d', 'http://www.indeed.com/rc/clk?jk=abe9a079f53068fd', 'http://www.indeed.com/rc/clk?jk=ad122bbcd21b85d7', 'http://www.indeed.com/rc/clk?jk=c5eac31dce5ef71d', 'http://www.indeed.com/rc/clk?jk=5400e3cede203643', 'http://www.indeed.com/rc/clk?jk=add249a2825e038d', 'http://www.indeed.com/rc/clk?jk=2d1998b3b1345008', 'http://www.indeed.com/rc/clk?jk=778c77285f87eb14', 'http://www.indeed.com/rc/clk?jk=d58cf7f1f8ca5735', 'http://www.indeed.com/rc/clk?jk=3cebc3e26a95833c', 'http://www.indeed.com/rc/clk?jk=c54aed5b3c0ae8d3', 'http://www.indeed.com/rc/clk?jk=9fc7ff91b3f1c7b2', 'http://www.indeed.com/rc/clk?jk=7dc16cbfb9f0381c', 'http://www.indeed.com/rc/clk?jk=b62169f0a13047fc', 'http://www.indeed.com/rc/clk?jk=309ea3809fb86439', 'http://www.indeed.com/rc/clk?jk=52e0fc2d81a0d1f5', 'http://www.indeed.com/rc/clk?jk=75117caec08f2a31', 'http://www.indeed.com/rc/clk?jk=7307dae6792c6203', 'http://www.indeed.com/rc/clk?jk=3b9e52a081336f6c', 'http://www.indeed.com/rc/clk?jk=e6d24c5374622ccb', 'http://www.indeed.com/rc/clk?jk=8801d8d7166001fc', 'http://www.indeed.com/rc/clk?jk=bf8842fcbff90193', 'http://www.indeed.com/rc/clk?jk=96b31ee49732e41c', 'http://www.indeed.com/rc/clk?jk=3d1d471b1f46922d', 'http://www.indeed.com/rc/clk?jk=689fd02ff61494e2', 'http://www.indeed.com/rc/clk?jk=d5613ccb9504c68b', 'http://www.indeed.com/rc/clk?jk=4b3bc50e0679edf1', 'http://www.indeed.com/rc/clk?jk=429d51c1cb25dbbc', 'http://www.indeed.com/rc/clk?jk=43fbe52e91cc7488', 'http://www.indeed.com/rc/clk?jk=429d51c1cb25dbbc', 'http://www.indeed.com/rc/clk?jk=43fbe52e91cc7488', 'http://www.indeed.com/rc/clk?jk=90b4092563e14383', 'http://www.indeed.com/rc/clk?jk=734f320484f3988b', 'http://www.indeed.com/rc/clk?jk=98c9fe5c20c8c463', 'http://www.indeed.com/rc/clk?jk=ec3c7690cc1a0423', 'http://www.indeed.com/rc/clk?jk=e1ea79c106e765a5', 'http://www.indeed.com/rc/clk?jk=7bb91250be4debf6', 'http://www.indeed.com/rc/clk?jk=58b6538f2157b577', 'http://www.indeed.com/rc/clk?jk=740d145c358dc8e0', 'http://www.indeed.com/rc/clk?jk=0662dfb6ddfdd59b', 'http://www.indeed.com/rc/clk?jk=0752b165159d685b', 'http://www.indeed.com/rc/clk?jk=aa745030834a4311', 'http://www.indeed.com/rc/clk?jk=56a254c4a07d47e2', 'http://www.indeed.com/rc/clk?jk=804831609d753c2c', 'http://www.indeed.com/rc/clk?jk=e804caaadbdb5824', 'http://www.indeed.com/rc/clk?jk=0799bbed206e078f', 'http://www.indeed.com/rc/clk?jk=13b644dcf071e056', 'http://www.indeed.com/rc/clk?jk=e0475c4f229cb153', 'http://www.indeed.com/rc/clk?jk=724876815d13fb4c', 'http://www.indeed.com/rc/clk?jk=4c2ecfb189c8f3b5', 'http://www.indeed.com/rc/clk?jk=5be501152cf2658b', 'http://www.indeed.com/rc/clk?jk=721ae1153d96aae3', 'http://www.indeed.com/rc/clk?jk=b9e52505e58b800d', 'http://www.indeed.com/rc/clk?jk=733354dec33c0105', 'http://www.indeed.com/rc/clk?jk=47a7a6667ab644e7', 'http://www.indeed.com/rc/clk?jk=7898907d83a5d90c', 'http://www.indeed.com/rc/clk?jk=0dddc3c22022dc6b', 'http://www.indeed.com/rc/clk?jk=5e27bd90568224f4', 'http://www.indeed.com/rc/clk?jk=9a6e464efaa132b3', 'http://www.indeed.com/rc/clk?jk=6e45dde7eae8d818', 'http://www.indeed.com/rc/clk?jk=7e780d0d98bf836a', 'http://www.indeed.com/rc/clk?jk=ffe3fc8af5cc9b5a', 'http://www.indeed.com/rc/clk?jk=fdfb4cff5824c9bd', 'http://www.indeed.com/rc/clk?jk=28821ad6e0e04660']\n"
     ]
    }
   ],
   "source": [
    "num_pages = int(np.ceil(job_count/10.0))\n",
    "\n",
    "base_url = 'http://www.indeed.com'\n",
    "job_links = []\n",
    "first_200_job_links = []\n",
    "for i in range(0,19): \n",
    "    url = 'https://www.indeed.fr/emplois?q=data+scientist&l=%C3%8Ele-de-France&start=' + str(i*10)\n",
    "    html_page = urllib.request.urlopen(url).read() \n",
    "    bs_tree = bs4.BeautifulSoup(html_page)\n",
    "    job_link_area = bs_tree.find(id = 'resultsCol')\n",
    "    job_postings = job_link_area.findAll(\"div\")\n",
    "    job_postings = [jp for jp in job_postings if str(jp.get('class')).find('row result')]\n",
    "    \n",
    "    job_ids = [jp.get('data-jk') for jp in job_postings]\n",
    "    \n",
    "    \n",
    "    # go after each link\n",
    "    for id in job_ids:\n",
    "        if (id != None and len(first_200_job_links)<200):\n",
    "    \n",
    "            first_200_job_links.append(base_url + '/rc/clk?jk=' + id)\n",
    "\n",
    "    time.sleep(1)\n",
    "    \n",
    "print( \"we found a lot of jobs :\" , len(first_200_job_links))\n",
    "print(first_200_job_links)"
   ]
  },
  {
   "cell_type": "markdown",
   "metadata": {},
   "source": [
    "The following piece of code accesses and grabs the content of all ads in the `job_links` and extracts all the human-readable text tokens. Then, it counts on how many pages are words `mapreduce`, `spark`, and `visualization` used. It might take a few seconds to execute."
   ]
  },
  {
   "cell_type": "code",
   "execution_count": 12,
   "metadata": {},
   "outputs": [
    {
     "name": "stdout",
     "output_type": "stream",
     "text": [
      "25\n",
      "{'hadoop': 0, 'spark': 1, 'python': 3}\n",
      "20\n",
      "{'hadoop': 0, 'spark': 4, 'python': 7}\n",
      "15\n",
      "{'hadoop': 0, 'spark': 6, 'python': 11}\n",
      "10\n",
      "{'hadoop': 0, 'spark': 8, 'python': 15}\n",
      "5\n",
      "{'hadoop': 0, 'spark': 10, 'python': 18}\n",
      "0\n",
      "{'hadoop': 0, 'spark': 11, 'python': 19}\n",
      "{'hadoop': 0, 'spark': 11, 'python': 19}\n"
     ]
    }
   ],
   "source": [
    "skill_set = {'hadoop':0, 'spark':0, 'python':0}\n",
    "counter = 0\n",
    "for link in job_links:\n",
    "    counter +=1  \n",
    "    \n",
    "    try:\n",
    "        html_page = urllib.request.urlopen(link).read()\n",
    "    except urllib.error.HTTPError:\n",
    "        continue\n",
    "    except urllib.error.URLError:\n",
    "        continue\n",
    "    except socket.error as error:\n",
    "        print(\"Connection closed\")\n",
    "        continue\n",
    "\n",
    "    html_text = re.sub(\"[^a-z.+3]\",\" \", html_page.decode('utf-8').lower()) # replace all but the listed characters\n",
    "    \n",
    "        \n",
    "    for key in list(skill_set.keys()):\n",
    "        if key in html_text:  \n",
    "            skill_set[key] +=1\n",
    "            \n",
    "    if counter % 5 == 0:\n",
    "        print(len(job_links) - counter)\n",
    "        print(skill_set)\n",
    "            \n",
    "print(skill_set)"
   ]
  },
  {
   "cell_type": "markdown",
   "metadata": {},
   "source": [
    "** Question 6**\n",
    "* What does the `re.sub()` do in the above code? To answer this, you will have to go to the documentation of the regular expression package (find it on web).\n",
    "> sub-string. re-module. re.sub() renvoie la chaîne obtenue en remplaçant les occurrences sans chevauchement les plus à gauche de la RE dans string par la substitution replacement. Si le motif n'est pas trouvé, string est renvoyée inchangée.\n",
    "* What is the meaning of `[^a-z.+3]`?\n",
    "> [^a-z.+3] = les chaines de charactères qui contiennent tout sauf les lettres minuscules de a à z (qui ne sont donc pas des mots) et qui ont une ocurence de 3\n",
    "* What is the content of `skill_set`?\n",
    "> skill_set est un dictionnaire qui contient le nombre d'annonces qui requière chacune des compétences hadoop, spark et python\n",
    "\n",
    "\n",
    "The following piece of code plots the counts of different skills in the processed ads."
   ]
  },
  {
   "cell_type": "code",
   "execution_count": 13,
   "metadata": {},
   "outputs": [
    {
     "data": {
      "image/png": "[encoded data removed]",
      "text/plain": [
       "<Figure size 432x288 with 1 Axes>"
      ]
     },
     "metadata": {
      "needs_background": "light"
     },
     "output_type": "display_data"
    }
   ],
   "source": [
    "pseries = pd.Series(skill_set)\n",
    "pseries.sort_values(ascending=False)\n",
    "\n",
    "pseries.plot(kind = 'bar')\n",
    "## set the title to Score Comparison\n",
    "plt.title('Data Science Skills')\n",
    "## set the x label\n",
    "plt.xlabel('Skills')\n",
    "## set the y label\n",
    "plt.ylabel('Count')\n",
    "## show the plot\n",
    "plt.show()"
   ]
  },
  {
   "cell_type": "markdown",
   "metadata": {},
   "source": [
    "**Question 7**:\n",
    "- rerun the code to find the counts of the 3 data science skills on the first 200 job ads"
   ]
  },
  {
   "cell_type": "code",
   "execution_count": 8,
   "metadata": {},
   "outputs": [
    {
     "name": "stdout",
     "output_type": "stream",
     "text": [
      "195\n",
      "{'hadoop': 0, 'spark': 1, 'python': 3}\n",
      "190\n",
      "{'hadoop': 0, 'spark': 4, 'python': 7}\n",
      "185\n",
      "{'hadoop': 0, 'spark': 6, 'python': 11}\n",
      "180\n",
      "{'hadoop': 0, 'spark': 8, 'python': 15}\n",
      "175\n",
      "{'hadoop': 0, 'spark': 10, 'python': 18}\n",
      "170\n",
      "{'hadoop': 0, 'spark': 11, 'python': 19}\n",
      "165\n",
      "{'hadoop': 1, 'spark': 12, 'python': 23}\n"
     ]
    },
    {
     "ename": "UnicodeDecodeError",
     "evalue": "'utf-8' codec can't decode byte 0xb5 in position 11: invalid start byte",
     "output_type": "error",
     "traceback": [
      "\u001b[1;31m---------------------------------------------------------------------------\u001b[0m",
      "\u001b[1;31mUnicodeDecodeError\u001b[0m                        Traceback (most recent call last)",
      "\u001b[1;32m<ipython-input-8-9428dc280795>\u001b[0m in \u001b[0;36m<module>\u001b[1;34m\u001b[0m\n\u001b[0;32m     14\u001b[0m         \u001b[1;32mcontinue\u001b[0m\u001b[1;33m\u001b[0m\u001b[1;33m\u001b[0m\u001b[0m\n\u001b[0;32m     15\u001b[0m \u001b[1;33m\u001b[0m\u001b[0m\n\u001b[1;32m---> 16\u001b[1;33m     \u001b[0mhtml_text\u001b[0m \u001b[1;33m=\u001b[0m \u001b[0mre\u001b[0m\u001b[1;33m.\u001b[0m\u001b[0msub\u001b[0m\u001b[1;33m(\u001b[0m\u001b[1;34m\"[^a-z.+3]\"\u001b[0m\u001b[1;33m,\u001b[0m\u001b[1;34m\" \"\u001b[0m\u001b[1;33m,\u001b[0m \u001b[0mhtml_page\u001b[0m\u001b[1;33m.\u001b[0m\u001b[0mdecode\u001b[0m\u001b[1;33m(\u001b[0m\u001b[1;34m'utf-8'\u001b[0m\u001b[1;33m)\u001b[0m\u001b[1;33m.\u001b[0m\u001b[0mlower\u001b[0m\u001b[1;33m(\u001b[0m\u001b[1;33m)\u001b[0m\u001b[1;33m)\u001b[0m \u001b[1;31m# replace all but the listed characters\u001b[0m\u001b[1;33m\u001b[0m\u001b[1;33m\u001b[0m\u001b[0m\n\u001b[0m\u001b[0;32m     17\u001b[0m \u001b[1;33m\u001b[0m\u001b[0m\n\u001b[0;32m     18\u001b[0m \u001b[1;33m\u001b[0m\u001b[0m\n",
      "\u001b[1;31mUnicodeDecodeError\u001b[0m: 'utf-8' codec can't decode byte 0xb5 in position 11: invalid start byte"
     ]
    }
   ],
   "source": [
    "skill_set = {'hadoop':0, 'spark':0, 'python':0}\n",
    "counter = 0\n",
    "for link in first_200_job_links:\n",
    "    counter +=1  \n",
    "    \n",
    "    try:\n",
    "        html_page = urllib.request.urlopen(link).read()\n",
    "    except urllib.error.HTTPError:\n",
    "        continue\n",
    "    except urllib.error.URLError:\n",
    "        continue\n",
    "    except socket.error as error:\n",
    "        print(\"Connection closed\")\n",
    "        continue\n",
    "\n",
    "    html_text = re.sub(\"[^a-z.+3]\",\" \", html_page.decode('utf-8').lower()) # replace all but the listed characters\n",
    "    \n",
    "        \n",
    "    for key in list(skill_set.keys()):\n",
    "        if key in html_text:  \n",
    "            skill_set[key] +=1\n",
    "            \n",
    "    if counter % 5 == 0:\n",
    "        print(len(first_200_job_links) - counter)\n",
    "        print(skill_set)\n",
    "            \n",
    "print(skill_set)"
   ]
  },
  {
   "cell_type": "markdown",
   "metadata": {
    "collapsed": true
   },
   "source": [
    "## Data analysis of the housing market in the Paris area \n",
    "\n",
    "In the first part of the lab, you created `skill_set` dictionary that counts occurences of 3 important data science skills of the jobs in Ile de France. In the second part of this lab, your task will be to create a padas 'DataFrame' object containing information about the flats/houses that are available for rent in the paris area. For each offer, you will have to create columns such as: \n",
    "- Location\n",
    "- Surface\n",
    "- Number of rooms\n",
    "- ...\n",
    "\n",
    "To do so, we will be using seloger.com. Unlike the first part, where you were provided with snippets of codes that help you get familiarized with Web Scrapping skills, in this part you are left on your own to figure out how to do so. You can reduce your search to a specific area of paris, e.g., Paris 9, and for specific range of rent [700 euros,800 euros].\n",
    "\n",
    "https://www.seloger.com/list.htm?projects=1&types=1,2&places=[{div:2238}]&price=700/800&enterprise=0&qsVersion=1.0\n",
    "\n",
    "Note: I obtained the above URL by simply using the web page as a human via a browser, and specifying the criteria I needed to via the web form provided by seloger.com\n"
   ]
  },
  {
   "cell_type": "markdown",
   "metadata": {
    "collapsed": true
   },
   "source": [
    "### Deliverable: the modified .ipynb file that contains the answers to the questions"
   ]
  }
 ],
 "metadata": {
  "anaconda-cloud": {},
  "kernelspec": {
   "display_name": "Python 3",
   "language": "python",
   "name": "python3"
  },
  "language_info": {
   "codemirror_mode": {
    "name": "ipython",
    "version": 3
   },
   "file_extension": ".py",
   "mimetype": "text/x-python",
   "name": "python",
   "nbconvert_exporter": "python",
   "pygments_lexer": "ipython3",
   "version": "3.7.4"
  }
 },
 "nbformat": 4,
 "nbformat_minor": 2
}
